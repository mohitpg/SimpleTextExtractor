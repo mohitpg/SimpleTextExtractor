{
 "cells": [
  {
   "cell_type": "code",
   "execution_count": 1,
   "metadata": {},
   "outputs": [],
   "source": [
    "import numpy as np \n",
    "import pandas as pd  \n",
    "import cv2\n",
    "import matplotlib.pyplot as plt\n",
    "import torch\n",
    "import torch.nn as nn\n",
    "import torch.optim as optim\n",
    "import torch.nn.functional as F\n",
    "from torch.utils.data import DataLoader"
   ]
  },
  {
   "cell_type": "code",
   "execution_count": 2,
   "metadata": {},
   "outputs": [
    {
     "data": {
      "text/html": [
       "<div>\n",
       "<style scoped>\n",
       "    .dataframe tbody tr th:only-of-type {\n",
       "        vertical-align: middle;\n",
       "    }\n",
       "\n",
       "    .dataframe tbody tr th {\n",
       "        vertical-align: top;\n",
       "    }\n",
       "\n",
       "    .dataframe thead th {\n",
       "        text-align: right;\n",
       "    }\n",
       "</style>\n",
       "<table border=\"1\" class=\"dataframe\">\n",
       "  <thead>\n",
       "    <tr style=\"text-align: right;\">\n",
       "      <th></th>\n",
       "      <th>0</th>\n",
       "      <th>1</th>\n",
       "      <th>2</th>\n",
       "      <th>3</th>\n",
       "      <th>4</th>\n",
       "      <th>5</th>\n",
       "      <th>6</th>\n",
       "      <th>7</th>\n",
       "      <th>8</th>\n",
       "      <th>9</th>\n",
       "      <th>...</th>\n",
       "      <th>775</th>\n",
       "      <th>776</th>\n",
       "      <th>777</th>\n",
       "      <th>778</th>\n",
       "      <th>779</th>\n",
       "      <th>780</th>\n",
       "      <th>781</th>\n",
       "      <th>782</th>\n",
       "      <th>783</th>\n",
       "      <th>784</th>\n",
       "    </tr>\n",
       "  </thead>\n",
       "  <tbody>\n",
       "    <tr>\n",
       "      <th>0</th>\n",
       "      <td>45</td>\n",
       "      <td>0</td>\n",
       "      <td>0</td>\n",
       "      <td>0</td>\n",
       "      <td>0</td>\n",
       "      <td>0</td>\n",
       "      <td>0</td>\n",
       "      <td>0</td>\n",
       "      <td>0</td>\n",
       "      <td>0</td>\n",
       "      <td>...</td>\n",
       "      <td>0</td>\n",
       "      <td>0</td>\n",
       "      <td>0</td>\n",
       "      <td>0</td>\n",
       "      <td>0</td>\n",
       "      <td>0</td>\n",
       "      <td>0</td>\n",
       "      <td>0</td>\n",
       "      <td>0</td>\n",
       "      <td>0</td>\n",
       "    </tr>\n",
       "    <tr>\n",
       "      <th>1</th>\n",
       "      <td>36</td>\n",
       "      <td>0</td>\n",
       "      <td>0</td>\n",
       "      <td>0</td>\n",
       "      <td>0</td>\n",
       "      <td>0</td>\n",
       "      <td>0</td>\n",
       "      <td>0</td>\n",
       "      <td>0</td>\n",
       "      <td>0</td>\n",
       "      <td>...</td>\n",
       "      <td>0</td>\n",
       "      <td>0</td>\n",
       "      <td>0</td>\n",
       "      <td>0</td>\n",
       "      <td>0</td>\n",
       "      <td>0</td>\n",
       "      <td>0</td>\n",
       "      <td>0</td>\n",
       "      <td>0</td>\n",
       "      <td>0</td>\n",
       "    </tr>\n",
       "    <tr>\n",
       "      <th>2</th>\n",
       "      <td>43</td>\n",
       "      <td>0</td>\n",
       "      <td>0</td>\n",
       "      <td>0</td>\n",
       "      <td>0</td>\n",
       "      <td>0</td>\n",
       "      <td>0</td>\n",
       "      <td>0</td>\n",
       "      <td>0</td>\n",
       "      <td>0</td>\n",
       "      <td>...</td>\n",
       "      <td>0</td>\n",
       "      <td>0</td>\n",
       "      <td>0</td>\n",
       "      <td>0</td>\n",
       "      <td>0</td>\n",
       "      <td>0</td>\n",
       "      <td>0</td>\n",
       "      <td>0</td>\n",
       "      <td>0</td>\n",
       "      <td>0</td>\n",
       "    </tr>\n",
       "    <tr>\n",
       "      <th>3</th>\n",
       "      <td>15</td>\n",
       "      <td>0</td>\n",
       "      <td>0</td>\n",
       "      <td>0</td>\n",
       "      <td>0</td>\n",
       "      <td>0</td>\n",
       "      <td>0</td>\n",
       "      <td>0</td>\n",
       "      <td>0</td>\n",
       "      <td>0</td>\n",
       "      <td>...</td>\n",
       "      <td>0</td>\n",
       "      <td>0</td>\n",
       "      <td>0</td>\n",
       "      <td>0</td>\n",
       "      <td>0</td>\n",
       "      <td>0</td>\n",
       "      <td>0</td>\n",
       "      <td>0</td>\n",
       "      <td>0</td>\n",
       "      <td>0</td>\n",
       "    </tr>\n",
       "    <tr>\n",
       "      <th>4</th>\n",
       "      <td>4</td>\n",
       "      <td>0</td>\n",
       "      <td>0</td>\n",
       "      <td>0</td>\n",
       "      <td>0</td>\n",
       "      <td>0</td>\n",
       "      <td>0</td>\n",
       "      <td>0</td>\n",
       "      <td>0</td>\n",
       "      <td>0</td>\n",
       "      <td>...</td>\n",
       "      <td>0</td>\n",
       "      <td>0</td>\n",
       "      <td>0</td>\n",
       "      <td>0</td>\n",
       "      <td>0</td>\n",
       "      <td>0</td>\n",
       "      <td>0</td>\n",
       "      <td>0</td>\n",
       "      <td>0</td>\n",
       "      <td>0</td>\n",
       "    </tr>\n",
       "  </tbody>\n",
       "</table>\n",
       "<p>5 rows × 785 columns</p>\n",
       "</div>"
      ],
      "text/plain": [
       "   0    1    2    3    4    5    6    7    8    9    ...  775  776  777  778  \\\n",
       "0   45    0    0    0    0    0    0    0    0    0  ...    0    0    0    0   \n",
       "1   36    0    0    0    0    0    0    0    0    0  ...    0    0    0    0   \n",
       "2   43    0    0    0    0    0    0    0    0    0  ...    0    0    0    0   \n",
       "3   15    0    0    0    0    0    0    0    0    0  ...    0    0    0    0   \n",
       "4    4    0    0    0    0    0    0    0    0    0  ...    0    0    0    0   \n",
       "\n",
       "   779  780  781  782  783  784  \n",
       "0    0    0    0    0    0    0  \n",
       "1    0    0    0    0    0    0  \n",
       "2    0    0    0    0    0    0  \n",
       "3    0    0    0    0    0    0  \n",
       "4    0    0    0    0    0    0  \n",
       "\n",
       "[5 rows x 785 columns]"
      ]
     },
     "execution_count": 2,
     "metadata": {},
     "output_type": "execute_result"
    }
   ],
   "source": [
    "train_df = pd.read_csv('./data/emnist-balanced-train.csv', header=None)\n",
    "test_df = pd.read_csv('./data/emnist-balanced-test.csv', header=None)\n",
    "train_df.head()"
   ]
  },
  {
   "cell_type": "markdown",
   "metadata": {},
   "source": [
    "Data structuring"
   ]
  },
  {
   "cell_type": "code",
   "execution_count": 3,
   "metadata": {},
   "outputs": [
    {
     "data": {
      "text/plain": [
       "((112800, 784), (112800,), (18800, 784), (18800,))"
      ]
     },
     "execution_count": 3,
     "metadata": {},
     "output_type": "execute_result"
    }
   ],
   "source": [
    "X_train = train_df.loc[:, 1:]\n",
    "y_train = train_df.loc[:, 0]\n",
    "X_test = test_df.loc[:, 1:]\n",
    "y_test = test_df.loc[:, 0]\n",
    "\n",
    "X_train.shape, y_train.shape, X_test.shape, y_test.shape"
   ]
  },
  {
   "cell_type": "code",
   "execution_count": 4,
   "metadata": {},
   "outputs": [
    {
     "data": {
      "text/plain": [
       "{0: '0',\n",
       " 1: '1',\n",
       " 2: '2',\n",
       " 3: '3',\n",
       " 4: '4',\n",
       " 5: '5',\n",
       " 6: '6',\n",
       " 7: '7',\n",
       " 8: '8',\n",
       " 9: '9',\n",
       " 10: 'A',\n",
       " 11: 'B',\n",
       " 12: 'C',\n",
       " 13: 'D',\n",
       " 14: 'E',\n",
       " 15: 'F',\n",
       " 16: 'G',\n",
       " 17: 'H',\n",
       " 18: 'I',\n",
       " 19: 'J',\n",
       " 20: 'K',\n",
       " 21: 'L',\n",
       " 22: 'M',\n",
       " 23: 'N',\n",
       " 24: 'O',\n",
       " 25: 'P',\n",
       " 26: 'Q',\n",
       " 27: 'R',\n",
       " 28: 'S',\n",
       " 29: 'T',\n",
       " 30: 'U',\n",
       " 31: 'V',\n",
       " 32: 'W',\n",
       " 33: 'X',\n",
       " 34: 'Y',\n",
       " 35: 'Z',\n",
       " 36: 'a',\n",
       " 37: 'b',\n",
       " 38: 'd',\n",
       " 39: 'e',\n",
       " 40: 'f',\n",
       " 41: 'g',\n",
       " 42: 'h',\n",
       " 43: 'n',\n",
       " 44: 'q',\n",
       " 45: 'r',\n",
       " 46: 't'}"
      ]
     },
     "execution_count": 4,
     "metadata": {},
     "output_type": "execute_result"
    }
   ],
   "source": [
    "label_map = pd.read_csv(\"./data/emnist-balanced-mapping.txt\", \n",
    "                        delimiter = ' ', \n",
    "                        index_col=0, \n",
    "                        header=None).squeeze()\n",
    "label_dictionary = {}\n",
    "for index, label in enumerate(label_map):\n",
    "    label_dictionary[index] = chr(label)\n",
    "\n",
    "label_dictionary"
   ]
  },
  {
   "cell_type": "markdown",
   "metadata": {},
   "source": [
    "Data visualisation and transformation"
   ]
  },
  {
   "cell_type": "code",
   "execution_count": 5,
   "metadata": {},
   "outputs": [
    {
     "data": {
      "text/plain": [
       "((784,), 23)"
      ]
     },
     "execution_count": 5,
     "metadata": {},
     "output_type": "execute_result"
    }
   ],
   "source": [
    "sample_image = X_train.iloc[42]\n",
    "sample_label = y_train.iloc[42]\n",
    "sample_image.shape, sample_label"
   ]
  },
  {
   "cell_type": "code",
   "execution_count": 6,
   "metadata": {},
   "outputs": [
    {
     "data": {
      "image/png": "[encoded data removed]",
      "text/plain": [
       "<Figure size 640x480 with 1 Axes>"
      ]
     },
     "metadata": {},
     "output_type": "display_data"
    },
    {
     "name": "stdout",
     "output_type": "stream",
     "text": [
      "N\n"
     ]
    }
   ],
   "source": [
    "sample_image=sample_image.values.astype(np.uint8).reshape(28,28)\n",
    "sample_image= cv2.threshold(sample_image, 100, 255, cv2.THRESH_BINARY)[1]\n",
    "plt.imshow(sample_image, cmap=plt.cm.gray)\n",
    "plt.show()\n",
    "print(label_dictionary[sample_label])"
   ]
  },
  {
   "cell_type": "code",
   "execution_count": 7,
   "metadata": {},
   "outputs": [
    {
     "data": {
      "text/plain": [
       "(112800, 28, 28)"
      ]
     },
     "execution_count": 7,
     "metadata": {},
     "output_type": "execute_result"
    }
   ],
   "source": [
    "\n",
    "def transformations(image):\n",
    "    W = 28\n",
    "    H = 28\n",
    "    image = image.reshape(W, H)\n",
    "    image = np.fliplr(image)\n",
    "    image = np.rot90(image)\n",
    "    image= cv2.threshold(image, 100, 255, cv2.THRESH_BINARY)[1]\n",
    "    return image\n",
    "\n",
    "X_train = np.apply_along_axis(transformations, 1, X_train.values.astype(np.uint8))\n",
    "\n",
    "X_test = np.apply_along_axis(transformations, 1, X_test.values.astype(np.uint8))\n",
    "X_train.shape"
   ]
  },
  {
   "cell_type": "code",
   "execution_count": 8,
   "metadata": {},
   "outputs": [
    {
     "data": {
      "image/png": "[encoded data removed]",
      "text/plain": [
       "<Figure size 640x480 with 2 Axes>"
      ]
     },
     "metadata": {},
     "output_type": "display_data"
    }
   ],
   "source": [
    "plt.subplot(1, 2, 1)\n",
    "sample_image = X_train[42]\n",
    "sample_label = y_train.iloc[42]\n",
    "plt.imshow(sample_image,cmap=plt.cm.gray)\n",
    "plt.title(label_dictionary[sample_label])\n",
    "\n",
    "plt.subplot(1, 2, 2)\n",
    "sample_image = X_test[42]\n",
    "sample_label = y_test.iloc[42]\n",
    "plt.imshow(sample_image,cmap=plt.cm.gray)\n",
    "plt.title(label_dictionary[sample_label])\n",
    "plt.show()"
   ]
  },
  {
   "cell_type": "markdown",
   "metadata": {},
   "source": [
    "Data normalization and loading"
   ]
  },
  {
   "cell_type": "code",
   "execution_count": 9,
   "metadata": {},
   "outputs": [
    {
     "data": {
      "text/plain": [
       "((112800, 1, 28, 28), (112800,), (18800, 1, 28, 28), (18800,))"
      ]
     },
     "execution_count": 9,
     "metadata": {},
     "output_type": "execute_result"
    }
   ],
   "source": [
    "X_train = X_train.astype('float32') / 255\n",
    "X_train = X_train.reshape(-1,1,28,28)\n",
    "\n",
    "X_test = X_test.astype('float32') / 255\n",
    "X_test = X_test.reshape(-1,1,28,28)\n",
    "\n",
    "X_train.shape,y_train.shape, X_test.shape,y_test.shape"
   ]
  },
  {
   "cell_type": "code",
   "execution_count": 10,
   "metadata": {},
   "outputs": [],
   "source": [
    "X_train = torch.tensor(X_train, dtype=torch.float32)\n",
    "y_train = torch.tensor(y_train, dtype=torch.float32)\n",
    "\n",
    "X_test = torch.tensor(X_test, dtype=torch.float32)\n",
    "y_test = torch.tensor(y_test, dtype=torch.float32)\n",
    " \n",
    "train_dataloader = DataLoader([[X_train[i], y_train[i]] for i in range(len(y_train))], shuffle=True, batch_size=32)\n",
    "test_dataloader = DataLoader([[X_test[i], y_test[i]] for i in range(len(y_test))], batch_size=32)"
   ]
  },
  {
   "cell_type": "code",
   "execution_count": 11,
   "metadata": {},
   "outputs": [
    {
     "name": "stdout",
     "output_type": "stream",
     "text": [
      "torch.Size([32, 1, 28, 28]) torch.Size([32])\n",
      "torch.Size([32, 1, 28, 28]) torch.Size([32])\n"
     ]
    }
   ],
   "source": [
    "train_features_batch, train_labels_batch = next(iter(train_dataloader))\n",
    "print(train_features_batch.shape, train_labels_batch.shape)\n",
    "test_features_batch, test_labels_batch = next(iter(test_dataloader))\n",
    "print(test_features_batch.shape, test_labels_batch.shape)"
   ]
  },
  {
   "cell_type": "code",
   "execution_count": 12,
   "metadata": {},
   "outputs": [
    {
     "data": {
      "text/plain": [
       "device(type='cpu')"
      ]
     },
     "execution_count": 12,
     "metadata": {},
     "output_type": "execute_result"
    }
   ],
   "source": [
    "device = torch.device(\"cuda\" if torch.cuda.is_available() else \"cpu\")\n",
    "device"
   ]
  },
  {
   "cell_type": "markdown",
   "metadata": {},
   "source": [
    "Model code and parameters"
   ]
  },
  {
   "cell_type": "code",
   "execution_count": 13,
   "metadata": {},
   "outputs": [],
   "source": [
    "class ICR(nn.Module):\n",
    "    def __init__(self):\n",
    "        super(ICR,self).__init__()\n",
    "        self.layers=nn.Sequential(\n",
    "            nn.Conv2d(in_channels=1,out_channels=32,kernel_size=3,stride=2),\n",
    "            nn.ReLU(),\n",
    "            nn.Conv2d(in_channels=32,out_channels=64,kernel_size=3,stride=2),\n",
    "            nn.ReLU(),\n",
    "            nn.Flatten(),\n",
    "            nn.Linear(64*6*6,512),\n",
    "            nn.Dropout(0.5),\n",
    "            nn.Linear(512,47)\n",
    "        )\n",
    "    def forward(self,X):\n",
    "        out=self.layers(X)\n",
    "        return out"
   ]
  },
  {
   "cell_type": "code",
   "execution_count": 14,
   "metadata": {},
   "outputs": [
    {
     "data": {
      "text/plain": [
       "ICR(\n",
       "  (layers): Sequential(\n",
       "    (0): Conv2d(1, 32, kernel_size=(3, 3), stride=(2, 2))\n",
       "    (1): ReLU()\n",
       "    (2): Conv2d(32, 64, kernel_size=(3, 3), stride=(2, 2))\n",
       "    (3): ReLU()\n",
       "    (4): Flatten(start_dim=1, end_dim=-1)\n",
       "    (5): Linear(in_features=2304, out_features=512, bias=True)\n",
       "    (6): Dropout(p=0.5, inplace=False)\n",
       "    (7): Linear(in_features=512, out_features=47, bias=True)\n",
       "  )\n",
       ")"
      ]
     },
     "execution_count": 14,
     "metadata": {},
     "output_type": "execute_result"
    }
   ],
   "source": [
    "model=ICR()\n",
    "model.to(device)"
   ]
  },
  {
   "cell_type": "code",
   "execution_count": 15,
   "metadata": {},
   "outputs": [],
   "source": [
    "criterion=nn.CrossEntropyLoss()\n",
    "optimizer=torch.optim.Adam(model.parameters())\n",
    "def accuracy_fn(y_true, y_pred):\n",
    "    correct = torch.eq(y_true, y_pred).sum().item()\n",
    "    acc = (correct / len(y_pred)) * 100\n",
    "    return acc"
   ]
  },
  {
   "cell_type": "markdown",
   "metadata": {},
   "source": [
    "Training model"
   ]
  },
  {
   "cell_type": "code",
   "execution_count": 16,
   "metadata": {},
   "outputs": [],
   "source": [
    "def train_batch(model,criterion,optimizer,train_loader,test_loader,epochs):\n",
    "    for it in range(epochs):\n",
    "        print(f\"Epoch: {it}\\n-------\")\n",
    "        train_loss=0\n",
    "        model.train()\n",
    "        for X,y in train_loader:\n",
    "            y = torch.as_tensor(y, dtype=torch.long)\n",
    "            X,y = X.to(device),y.to(device)\n",
    "            optimizer.zero_grad()\n",
    "            y_pred=model(X)\n",
    "            loss=criterion(y_pred,y)\n",
    "            train_loss+=loss\n",
    "            loss.backward()\n",
    "            optimizer.step()\n",
    "        train_loss/=len(train_loader)\n",
    "        test_loss=0\n",
    "        test_acc=0\n",
    "        model.eval()\n",
    "        with torch.inference_mode():\n",
    "            for X,y in test_loader:\n",
    "                y = torch.as_tensor(y, dtype=torch.long)\n",
    "                X,y = X.to(device),y.to(device)\n",
    "                y_pred=model(X)\n",
    "                loss=criterion(y_pred,y)\n",
    "                test_loss+=loss\n",
    "                test_acc += accuracy_fn(y_true=y, y_pred=y_pred.argmax(dim=1))\n",
    "            test_loss/=len(test_loader)\n",
    "            test_acc/=len(test_loader)\n",
    "\n",
    "        print(f\"\\nTrain loss: {train_loss:.5f} | Test loss: {test_loss:.5f}, Test acc: {test_acc:.2f}%\\n\")\n",
    "\n",
    "\n",
    "\n"
   ]
  },
  {
   "cell_type": "code",
   "execution_count": 17,
   "metadata": {},
   "outputs": [
    {
     "name": "stdout",
     "output_type": "stream",
     "text": [
      "Epoch: 0\n",
      "-------\n",
      "\n",
      "Train loss: 0.78902 | Test loss: 0.53317, Test acc: 82.56%\n",
      "\n",
      "Epoch: 1\n",
      "-------\n",
      "\n",
      "Train loss: 0.52659 | Test loss: 0.48614, Test acc: 83.90%\n",
      "\n",
      "Epoch: 2\n",
      "-------\n",
      "\n",
      "Train loss: 0.46977 | Test loss: 0.46671, Test acc: 84.73%\n",
      "\n",
      "Epoch: 3\n",
      "-------\n",
      "\n",
      "Train loss: 0.43533 | Test loss: 0.47058, Test acc: 84.38%\n",
      "\n",
      "Epoch: 4\n",
      "-------\n",
      "\n",
      "Train loss: 0.40688 | Test loss: 0.45528, Test acc: 84.70%\n",
      "\n",
      "Epoch: 5\n",
      "-------\n",
      "\n",
      "Train loss: 0.38697 | Test loss: 0.45684, Test acc: 84.84%\n",
      "\n",
      "Epoch: 6\n",
      "-------\n",
      "\n",
      "Train loss: 0.37178 | Test loss: 0.46131, Test acc: 85.07%\n",
      "\n",
      "Epoch: 7\n",
      "-------\n",
      "\n",
      "Train loss: 0.35858 | Test loss: 0.46747, Test acc: 84.92%\n",
      "\n",
      "Epoch: 8\n",
      "-------\n",
      "\n",
      "Train loss: 0.34557 | Test loss: 0.46445, Test acc: 84.94%\n",
      "\n",
      "Epoch: 9\n",
      "-------\n",
      "\n",
      "Train loss: 0.33572 | Test loss: 0.47097, Test acc: 84.99%\n",
      "\n"
     ]
    }
   ],
   "source": [
    "train_batch(model,criterion,optimizer,train_dataloader,test_dataloader,10)"
   ]
  },
  {
   "cell_type": "code",
   "execution_count": 18,
   "metadata": {},
   "outputs": [
    {
     "data": {
      "image/png": "[encoded data removed]",
      "text/plain": [
       "<Figure size 640x480 with 5 Axes>"
      ]
     },
     "metadata": {},
     "output_type": "display_data"
    }
   ],
   "source": [
    "\n",
    "\n",
    "model.eval()\n",
    "def predict_image(img, model):\n",
    "    xb = img.unsqueeze(0)\n",
    "    yb = model(xb)\n",
    "    _, preds  = torch.max(yb, dim=1)\n",
    "    return preds[0].item()\n",
    "random_img= torch.randint(1, 46, (7,))\n",
    "for i in range(1,6):\n",
    "  plt.subplot(1, 6, i)\n",
    "  sample_image = X_train[random_img[i]]\n",
    "  l_pred=predict_image(sample_image,model)\n",
    "  plt.imshow(sample_image.numpy().reshape(28,28),cmap=plt.cm.gray)\n",
    "  plt.title(label_dictionary[l_pred])\n",
    "\n",
    "plt.show()"
   ]
  },
  {
   "cell_type": "code",
   "execution_count": 20,
   "metadata": {},
   "outputs": [],
   "source": [
    "torch.save(model,'./charClassifier.pth')"
   ]
  }
 ],
 "metadata": {
  "kernelspec": {
   "display_name": "Python 3",
   "language": "python",
   "name": "python3"
  },
  "language_info": {
   "codemirror_mode": {
    "name": "ipython",
    "version": 3
   },
   "file_extension": ".py",
   "mimetype": "text/x-python",
   "name": "python",
   "nbconvert_exporter": "python",
   "pygments_lexer": "ipython3",
   "version": "3.11.2"
  }
 },
 "nbformat": 4,
 "nbformat_minor": 2
}
